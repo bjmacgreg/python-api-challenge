{
 "cells": [
  {
   "cell_type": "code",
   "execution_count": null,
   "metadata": {},
   "outputs": [],
   "source": [
    "# Dependencies and Setup\n",
    "import matplotlib.pyplot as plt\n",
    "import pandas as pd\n",
    "import numpy as np\n",
    "import requests\n",
    "import gmaps\n",
    "import os\n",
    "import config\n",
    "import json as json\n",
    "from config import gmaps_key"
   ]
  },
  {
   "cell_type": "markdown",
   "metadata": {},
   "source": [
    "Store Part I results into DataFrame\n",
    "Load the csv exported in Part I to a DataFrame"
   ]
  },
  {
   "cell_type": "code",
   "execution_count": null,
   "metadata": {},
   "outputs": [],
   "source": [
    "#os.getcwd()\n",
    "cities_vac_df = pd.read_csv('../output_data/cities.csv')\n",
    "cities_vac_df.dropna(inplace = True) \n",
    "cities_vac_df"
   ]
  },
  {
   "cell_type": "markdown",
   "metadata": {},
   "source": [
    "Humidity Heatmap\n",
    "Configure gmaps.\n",
    "Use the Lat and Lng as locations and Humidity as the weight.\n",
    "Add Heatmap layer to map."
   ]
  },
  {
   "cell_type": "code",
   "execution_count": null,
   "metadata": {},
   "outputs": [],
   "source": [
    "gmaps.configure(api_key=gmaps_key)\n",
    "locations = cities_vac_df[[\"Lat\", \"Lon\"]].astype(float)\n",
    "humidity = cities_vac_df[\"Humidity\"].astype(float)\n",
    "\n",
    "fig = gmaps.figure()\n",
    "\n",
    "# Customize the size of the figure\n",
    "figure_layout = {\n",
    "    'width': '400px',\n",
    "    'height': '300px',\n",
    "    'border': '1px solid black',\n",
    "    'padding': '1px',\n",
    "    'margin': '0 auto 0 auto'\n",
    "}\n",
    "fig = gmaps.figure(layout=figure_layout)\n",
    "\n",
    "# Add heat layer\n",
    "heat_layer = gmaps.heatmap_layer(locations, weights=humidity, \n",
    "                                 dissipating=False, max_intensity=100,\n",
    "                                 point_radius = 1)\n",
    "fig.add_layer(heat_layer)\n",
    "\n",
    "# Shoe map\n",
    "fig"
   ]
  },
  {
   "cell_type": "markdown",
   "metadata": {},
   "source": [
    "Create new DataFrame fitting weather criteria\n",
    "Narrow down the cities to fit weather conditions.\n",
    "Drop any rows will null values."
   ]
  },
  {
   "cell_type": "code",
   "execution_count": null,
   "metadata": {},
   "outputs": [],
   "source": [
    "#This is kind of bogus because data are for one timepoint only... Could be a sunny day in Bergen, it happens.\n",
    "\n",
    "cities_pref_df = cities_vac_df\n",
    "cities_pref_df.drop(cities_pref_df[cities_pref_df['Feels_like'] > 30].index, inplace = True)\n",
    "cities_pref_df.drop(cities_pref_df[cities_pref_df['Feels_like'] < -10].index, inplace = True)\n",
    "cities_pref_df.drop(cities_pref_df[cities_pref_df['Humidity'] > 80].index, inplace = True)\n",
    "cities_pref_df.drop(cities_pref_df[cities_pref_df['Country'] == \"US\"].index, inplace = True)\n",
    "cities_pref_df\n",
    "\n"
   ]
  },
  {
   "cell_type": "markdown",
   "metadata": {},
   "source": [
    "Hotel Map\n",
    "Store into variable named hotel_df.\n",
    "Add a \"Hotel Name\" column to the DataFrame.\n",
    "Set parameters to search for hotels with 5000 meters.\n",
    "Hit the Google Places API for each city's coordinates.\n",
    "Store the first Hotel result into the DataFrame.\n",
    "Plot markers on top of the heatmap."
   ]
  },
  {
   "cell_type": "code",
   "execution_count": null,
   "metadata": {
    "scrolled": false
   },
   "outputs": [],
   "source": [
    "hotel_df = cities_pref_df\n",
    "hotel_df[\"Hotel\"] = \"\"\n",
    "\n",
    "target_radius = 5000\n",
    "target_type = \"lodging\"\n",
    "\n",
    "base_url = \"https://maps.googleapis.com/maps/api/place/nearbysearch/json?\"\n",
    "\n",
    "params = {\n",
    "    \"radius\": target_radius,\n",
    "    \"type\": target_type,\n",
    "    \"key\": gmaps_key\n",
    "}\n",
    "\n",
    "#(print log commented out because annoying)\n",
    "for index, row in hotel_df.iterrows():\n",
    "    # get lat, lng from df; remaining parameters from paramters dictionary\n",
    "    lat = row[\"Lat\"]\n",
    "    lon = row[\"Lon\"]\n",
    "    params[\"location\"] = f\"{lat},{lon}\"\n",
    "\n",
    "    response = requests.get(base_url, params=params).json()\n",
    "    results = response['results']    \n",
    "    #print(json.dumps(hotel_name, indent=4, sort_keys=True))\n",
    "    try:\n",
    "        #print(f\"Closest hotel is {results[0]['name']}.\")\n",
    "        hotel_df.loc[index, \"Hotel\"] = results[0]['name']\n",
    "        \n",
    "    except (KeyError, IndexError):\n",
    "        hotel_df.loc[index, \"Hotel\"] = \"missing value\"\n",
    "    #print(\"------------\")\n",
    "\n",
    "hotel_df"
   ]
  },
  {
   "cell_type": "code",
   "execution_count": null,
   "metadata": {},
   "outputs": [],
   "source": [
    "# NOTE: Do not change any of the code in this cell\n",
    "\n",
    "# Using the template add the hotel marks to the heatmap\n",
    "info_box_template = \"\"\"\n",
    "<dl>\n",
    "<dt>Name</dt><dd>{Hotel}</dd>\n",
    "<dt>City</dt><dd>{City}</dd>\n",
    "<dt>Country</dt><dd>{Country}</dd>\n",
    "</dl>\n",
    "\"\"\"\n",
    "# Store the DataFrame Row\n",
    "# NOTE: be sure to update with your DataFrame name\n",
    "hotel_info = [info_box_template.format(**row) for index, row in hotel_df.iterrows()]\n",
    "locations = hotel_df[[\"Lat\", \"Lon\"]]"
   ]
  },
  {
   "cell_type": "code",
   "execution_count": null,
   "metadata": {},
   "outputs": [],
   "source": [
    "# Customize the size of the figure\n",
    "figure_layout = {\n",
    "    'width': '400px',\n",
    "    'height': '300px',\n",
    "    'border': '1px solid black',\n",
    "    'padding': '1px',\n",
    "    'margin': '0 auto 0 auto'\n",
    "}\n",
    "fig = gmaps.figure(layout=figure_layout)"
   ]
  },
  {
   "cell_type": "code",
   "execution_count": null,
   "metadata": {},
   "outputs": [],
   "source": [
    "# Add marker layer ontop of heat map\n",
    "# Assign the marker layer to a variable\n",
    "markers = gmaps.marker_layer(locations)\n",
    "# Add the layer to the map\n",
    "fig.add_layer(markers)\n",
    "\n",
    "# Display figure\n",
    "fig"
   ]
  },
  {
   "cell_type": "code",
   "execution_count": null,
   "metadata": {},
   "outputs": [],
   "source": []
  }
 ],
 "metadata": {
  "kernelspec": {
   "display_name": "Python 3",
   "language": "python",
   "name": "python3"
  },
  "language_info": {
   "codemirror_mode": {
    "name": "ipython",
    "version": 3
   },
   "file_extension": ".py",
   "mimetype": "text/x-python",
   "name": "python",
   "nbconvert_exporter": "python",
   "pygments_lexer": "ipython3",
   "version": "3.6.10"
  }
 },
 "nbformat": 4,
 "nbformat_minor": 4
}
