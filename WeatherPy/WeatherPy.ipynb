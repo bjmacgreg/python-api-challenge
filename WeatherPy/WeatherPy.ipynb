{
 "cells": [
  {
   "cell_type": "markdown",
   "metadata": {},
   "source": [
    "Hints and Considerations\n",
    "\n",
    "* The city data you generate is based on random coordinates as well as different query times; as such, your outputs will not be an exact match to the provided starter notebook.\n",
    "\n",
    "* You may want to start this assignment by refreshing yourself on the [geographic coordinate system](http://desktop.arcgis.com/en/arcmap/10.3/guide-books/map-projections/about-geographic-coordinate-systems.htm).\n",
    "\n",
    "* Next, spend the requisite time necessary to study the OpenWeatherMap API. Based on your initial study, you should be able to answer  basic questions about the API: Where do you request the API key? Which Weather API in particular will you need? What URL endpoints does it expect? Which JSON structure does it respond with? Before you write a line of code, you should be aiming to have a crystal clear understanding of your intended outcome.\n",
    "\n",
    "* Starter code for Citipy has been provided. However, if you're craving an extra challenge, push yourself to learn how it works: [citipy Python library](https://pypi.python.org/pypi/citipy). Before you try to incorporate the library into your analysis, start by creating simple test cases outside your main script to confirm that you are using it correctly. Too often, when introduced to a new library, students get bogged down by the most minor of errors -- spending hours investigating their entire code -- when, in fact, a simple and focused test would have shown their basic utilization of the library was wrong from the start. Don't let this be you!\n",
    "\n",
    "* Part of our expectation in this challenge is that you will use critical thinking skills to understand how and why we're recommending the tools we are. What is Citipy for? Why would you use it in conjunction with the OpenWeatherMap API? How would you do so?\n",
    "\n",
    "* In building your script, pay attention to the cities you are using in your query pool. Are you getting coverage of the full gamut of latitudes and longitudes? Or are you simply choosing 500 cities concentrated in one region of the world? Even if you were a geographic genius, simply rattling 500 cities based on your human selection would create a biased dataset. Be thinking of how you should counter this. (Hint: Consider the full range of latitudes).\n",
    "\n",
    "* Remember that each coordinate will trigger a separate call to the Google API. If you're creating your own criteria to plan your vacation, try to reduce the results in your DataFrame to 10 or fewer cities.\n",
    "\n",
    "* Lastly, remember -- this is a challenging activity. Push yourself! If you complete this task, then you can safely say that you've gained a strong mastery of the core foundations of data analytics and it will only go better from here. Good luck!"
   ]
  },
  {
   "cell_type": "markdown",
   "metadata": {},
   "source": [
    "Your final notebook must:\n",
    "\n",
    "* Randomly select **at least** 500 unique (non-repeat) cities based on latitude and longitude.\n",
    "* Obtain the weather from each city using the OpenWeatherMap API.\n",
    "* Include a print log of each city as it's being processed, with the city number and city name.\n",
    "* Save a CSV of all retrieved data and a PNG image for each scatter plot."
   ]
  },
  {
   "cell_type": "code",
   "execution_count": 1,
   "metadata": {},
   "outputs": [
    {
     "ename": "ModuleNotFoundError",
     "evalue": "No module named 'config'",
     "output_type": "error",
     "traceback": [
      "\u001b[0;31m---------------------------------------------------------------------------\u001b[0m",
      "\u001b[0;31mModuleNotFoundError\u001b[0m                       Traceback (most recent call last)",
      "\u001b[0;32m<ipython-input-1-667533e6ef20>\u001b[0m in \u001b[0;36m<module>\u001b[0;34m\u001b[0m\n\u001b[1;32m      8\u001b[0m \u001b[0;32mimport\u001b[0m \u001b[0mjson\u001b[0m \u001b[0;32mas\u001b[0m \u001b[0mjson\u001b[0m\u001b[0;34m\u001b[0m\u001b[0;34m\u001b[0m\u001b[0m\n\u001b[1;32m      9\u001b[0m \u001b[0;32mimport\u001b[0m \u001b[0mmatplotlib\u001b[0m\u001b[0;34m.\u001b[0m\u001b[0mcolors\u001b[0m \u001b[0;32mas\u001b[0m \u001b[0mmcolors\u001b[0m\u001b[0;34m\u001b[0m\u001b[0;34m\u001b[0m\u001b[0m\n\u001b[0;32m---> 10\u001b[0;31m \u001b[0;32mimport\u001b[0m \u001b[0mconfig\u001b[0m\u001b[0;34m\u001b[0m\u001b[0;34m\u001b[0m\u001b[0m\n\u001b[0m\u001b[1;32m     11\u001b[0m \u001b[0;34m\u001b[0m\u001b[0m\n\u001b[1;32m     12\u001b[0m \u001b[0;31m# Import API key\u001b[0m\u001b[0;34m\u001b[0m\u001b[0;34m\u001b[0m\u001b[0;34m\u001b[0m\u001b[0m\n",
      "\u001b[0;31mModuleNotFoundError\u001b[0m: No module named 'config'"
     ]
    }
   ],
   "source": [
    "# Dependencies and Setup\n",
    "import matplotlib.pyplot as plt\n",
    "import pandas as pd\n",
    "import numpy as np\n",
    "import requests\n",
    "import time\n",
    "from scipy.stats import linregress\n",
    "import json as json\n",
    "import matplotlib.colors as mcolors\n",
    "import config\n",
    "\n",
    "# Import API key\n",
    "from config import weather_api_key\n",
    "\n",
    "# Incorporated citipy to determine city based on latitude and longitude\n",
    "from citipy import citipy\n",
    "\n",
    "# Output File (CSV)\n",
    "output_data_file = \"output_data/cities.csv\"\n",
    "\n",
    "# Range of latitudes and longitudes\n",
    "lat_range = (-90, 90)\n",
    "lng_range = (-180, 180)"
   ]
  },
  {
   "cell_type": "markdown",
   "metadata": {},
   "source": [
    "Generate Cities List"
   ]
  },
  {
   "cell_type": "code",
   "execution_count": null,
   "metadata": {},
   "outputs": [],
   "source": [
    "# List for holding lat_lngs and cities\n",
    "lat_lngs = []\n",
    "cities = []\n",
    "\n",
    "# Create a set of random lat and lng combinations\n",
    "lats = np.random.uniform(lat_range[0], lat_range[1], size=1500)\n",
    "lngs = np.random.uniform(lng_range[0], lng_range[1], size=1500)\n",
    "#lats = np.random.uniform(lat_range[0], lat_range[1], size=20)\n",
    "#lngs = np.random.uniform(lng_range[0], lng_range[1], size=20)\n",
    "\n",
    "lat_lngs = zip(lats, lngs)\n",
    "\n",
    "# Identify nearest city for each lat, lng combination\n",
    "for lat_lng in lat_lngs:\n",
    "    city = citipy.nearest_city(lat_lng[0], lat_lng[1]).city_name\n",
    "    \n",
    "    # If the city is unique, then add it to a our cities list\n",
    "    if city not in cities:\n",
    "        cities.append(city)\n",
    "\n",
    "# Print the city count to confirm sufficient count\n",
    "len(cities)\n",
    "#print(cities)\n"
   ]
  },
  {
   "cell_type": "markdown",
   "metadata": {},
   "source": [
    "Perform API Calls\n",
    "Perform a weather check on each city using a series of successive API calls.\n",
    "\n",
    "##Include a print log of each city as it's being processed (with the city number and city name).\n",
    "\n",
    "***Note that these will be at different times of day, depending on longitude... do have timezone... historical data for e.g. last 5 days would be better, but is a lot more data; longer-term costs money. Suppose could divide calls to database by timezone, do a call at e.g. local noon until have the complete set.\n",
    "OpenWeatherMap uses Unix time and UTC/GMT time zone for all API calls including current weather, forecast and historical data.\n",
    "api.openweathermap.org/data/2.5/weather?q={city name}&appid={your api key}"
   ]
  },
  {
   "cell_type": "code",
   "execution_count": null,
   "metadata": {},
   "outputs": [],
   "source": [
    "#test_weather_data = []\n",
    "#test_cities = {\"Bremen\", \"Boston\", \"Bilbao\", \"Quito\", \"Auckland\"}\n",
    "url = \"http://api.openweathermap.org/data/2.5/weather?q=\"\n",
    "place = []\n",
    "lon = []\n",
    "lat = []\n",
    "weather = []\n",
    "weather_desc = []\n",
    "temp_C = []\n",
    "feels_like = []\n",
    "temp_min_C = []\n",
    "temp_max_C = []\n",
    "humidity = []\n",
    "wind_speed = []\n",
    "clouds = []\n",
    "country = []\n",
    "timezone = []\n",
    "units = \"metric\"\n",
    "\n",
    "for city in cities:\n",
    "    query_url = url + city + \"&appid=\" + weather_api_key + \"&units=\" + units\n",
    "    current_weather = requests.get(query_url).json()\n",
    "    #print(json.dumps(current_weather, indent=4, sort_keys=True))\n",
    "    place.append(city)\n",
    "    try:\n",
    "        lat.append(current_weather['coord']['lat'])\n",
    "        lon.append(current_weather['coord']['lon'])\n",
    "        temp_C.append(current_weather['main']['temp'])\n",
    "        feels_like.append(current_weather['main']['feels_like'])\n",
    "        temp_min_C.append(current_weather['main']['temp_min'])\n",
    "        temp_max_C.append(current_weather['main']['temp_max'])\n",
    "        humidity.append(current_weather['main']['humidity'])\n",
    "        wind_speed.append(current_weather['wind']['speed'])\n",
    "        clouds.append(current_weather['clouds']['all'])\n",
    "        country.append(current_weather['sys']['country'])\n",
    "        timezone.append(current_weather['timezone'])\n",
    "    except:\n",
    "        lat.append(\"555\")\n",
    "        lon.append(\"555\")\n",
    "        temp_C.append(\"555\")\n",
    "        feels_like.append(\"555\")\n",
    "        temp_min_C.append(\"555\")\n",
    "        temp_max_C.append(\"555\")\n",
    "        humidity.append(\"555\")\n",
    "        wind_speed.append(\"555\")\n",
    "        clouds.append(\"555\")\n",
    "        country.append(\"555\")\n",
    "        timezone.append(\"555\")\n",
    "    #print(json.dumps(current_weather, indent=4, sort_keys=True))\n",
    "    #test_weather_data.append(current_weather_json)\n",
    "#len(lat)\n",
    "#print(query_url)"
   ]
  },
  {
   "cell_type": "code",
   "execution_count": null,
   "metadata": {},
   "outputs": [],
   "source": [
    "#Convert Raw Data to DataFrame\n",
    "cities_df = pd.DataFrame({\n",
    "    \"City\": place,\n",
    "    \"Lat\": lat,\n",
    "    \"Lon\": lon,\n",
    "    \"Temp_C\": temp_C,\n",
    "    \"Feels_like\": feels_like,\n",
    "    \"Temp_min_C\": temp_min_C,\n",
    "    \"Temp_max_C\": temp_max_C,\n",
    "    \"Humidity\": humidity,\n",
    "    \"Wind_speed_mph\": wind_speed,\n",
    "    \"Clouds\": clouds,\n",
    "    \"Country\": country,\n",
    "    \"Time_zone\": timezone\n",
    "})\n",
    "\n",
    "#Export the city data into a .csv.\n",
    "cities_df.to_csv(output_data_file)\n",
    "\n",
    "#Display the DataFrame\n",
    "cities_df\n"
   ]
  },
  {
   "cell_type": "markdown",
   "metadata": {},
   "source": [
    "\n"
   ]
  },
  {
   "cell_type": "markdown",
   "metadata": {},
   "source": [
    "Inspect the data and remove the cities where the humidity > 100%.\n",
    "Skip this step if there are no cities that have humidity > 100%."
   ]
  },
  {
   "cell_type": "code",
   "execution_count": null,
   "metadata": {},
   "outputs": [],
   "source": [
    "cities_df[\"Lat\"] = pd.to_numeric(cities_df[\"Lat\"])\n",
    "cities_df[\"Lon\"] = pd.to_numeric(cities_df[\"Lon\"])\n",
    "cities_df[\"Temp_C\"] = pd.to_numeric(cities_df[\"Temp_C\"])\n",
    "cities_df[\"Feels_like\"] = pd.to_numeric(cities_df[\"Feels_like\"])\n",
    "cities_df[\"Temp_min_C\"] = pd.to_numeric(cities_df[\"Temp_min_C\"])\n",
    "cities_df[\"Temp_max_C\"] = pd.to_numeric(cities_df[\"Temp_max_C\"])\n",
    "cities_df[\"Humidity\"] = pd.to_numeric(cities_df[\"Humidity\"])\n",
    "cities_df[\"Wind_speed_mph\"] = pd.to_numeric(cities_df[\"Wind_speed_mph\"])\n",
    "cities_df[\"Clouds\"] = pd.to_numeric(cities_df[\"Clouds\"])\n",
    "cities_df[\"Time_zone\"] = pd.to_numeric(cities_df[\"Time_zone\"])\n",
    "#cities_df.dtypes\n",
    "\n",
    "cities_df.drop(cities_df[cities_df['Humidity'] > 100].index, inplace = True)\n",
    "cities_df.drop(cities_df[cities_df['Temp_C'] == 555].index, inplace = True)\n",
    "\n",
    "cities_df"
   ]
  },
  {
   "cell_type": "markdown",
   "metadata": {},
   "source": [
    "Plotting the Data\n",
    "Use proper labeling of the plots using plot titles (including date of analysis) and axes labels.\n",
    "Save the plotted figures as .pngs."
   ]
  },
  {
   "cell_type": "markdown",
   "metadata": {},
   "source": [
    "Temperature (F) vs. Latitude (Max temp?)"
   ]
  },
  {
   "cell_type": "code",
   "execution_count": null,
   "metadata": {},
   "outputs": [],
   "source": [
    "colors = plt.set_cmap('cool')\n",
    "norm = mcolors.TwoSlopeNorm(vmin=-90, vcenter=0, vmax=90)\n",
    "\n",
    "vmin = -90 \n",
    "vmax = 90\n",
    "vcenter = 0\n",
    "\n",
    "y_values = ((cities_df[\"Temp_max_C\"]*(9/5))+32)\n",
    "x_values = abs(cities_df[\"Lat\"])\n",
    "(slope, intercept, rvalue, pvalue, stderr) = linregress(x_values, y_values)\n",
    "regress_values = x_values * slope + intercept\n",
    "line_eq = \"y = \" + str(round(slope,2)) + \"x + \" + str(round(intercept,2))\n",
    "\n",
    "plt.scatter(x_values,y_values, c=cities_df.Lat, cmap=colors, norm=norm)\n",
    "plt.xlim(-5, 90)\n",
    "plt.ylim(25, 112)\n",
    "colorbar = plt.colorbar()\n",
    "colorbar.set_label('Latitude', rotation=270, size = 12)\n",
    "\n",
    "plt.plot(x_values,regress_values, \"k-\")\n",
    "plt.annotate(line_eq,(45,105),fontsize=12,color=\"black\")\n",
    "plt.xlabel('Degrees from equator (Pink N, Aqua S)', size=12)\n",
    "plt.ylabel('Maximum temperature (˚F)', size=12)\n",
    "plt.suptitle('Maximum temperature vs. Latitude', size=14)\n",
    "\n",
    "#plt.ion()\n",
    "\n",
    "print(f\"The r-squared is: {rvalue**2}\")\n",
    "\n",
    "plt.show()\n",
    "\n",
    "#$ pip install ggplot (need matplotlib, pandas. numpy, scipy, statsmodels)\n",
    "#ggplot(aes(x='Height', y='Weight', color='Gender'), data=df)  + geom_point()"
   ]
  },
  {
   "cell_type": "markdown",
   "metadata": {},
   "source": [
    "Humidity (%) vs. Latitude"
   ]
  },
  {
   "cell_type": "code",
   "execution_count": null,
   "metadata": {},
   "outputs": [],
   "source": [
    "colors = plt.set_cmap('cool')\n",
    "norm = mcolors.TwoSlopeNorm(vmin=-90, vcenter=0, vmax=90)\n",
    "\n",
    "vmin = -90 \n",
    "vmax = 90\n",
    "vcenter = 0\n",
    "\n",
    "y_values = cities_df[\"Humidity\"]\n",
    "x_values = abs(cities_df[\"Lat\"])\n",
    "(slope, intercept, rvalue, pvalue, stderr) = linregress(x_values, y_values)\n",
    "regress_values = x_values * slope + intercept\n",
    "line_eq = \"y = \" + str(round(slope,2)) + \"x + \" + str(round(intercept,2))\n",
    "\n",
    "plt.scatter(x_values,y_values, c=cities_df.Lat, cmap=colors, norm=norm)\n",
    "plt.xlim(-5, 90)\n",
    "plt.ylim(0, 105)\n",
    "colorbar = plt.colorbar()\n",
    "colorbar.set_label('Latitude', rotation=270, size = 12)\n",
    "\n",
    "plt.plot(x_values,regress_values,\"k-\")\n",
    "plt.annotate(line_eq,(48,10),fontsize=12,color=\"black\")\n",
    "plt.xlabel('Degrees from equator (Pink N, Aqua S)', size=12)\n",
    "plt.ylabel('Humidity (%)', size=12)\n",
    "plt.suptitle('Humidity vs. Latitude', size=14)\n",
    "\n",
    "print(f\"The r-squared is: {rvalue**2}\")\n",
    "\n",
    "plt.show()"
   ]
  },
  {
   "cell_type": "markdown",
   "metadata": {},
   "source": [
    "Cloudiness (%) vs. Latitude"
   ]
  },
  {
   "cell_type": "code",
   "execution_count": null,
   "metadata": {},
   "outputs": [],
   "source": [
    "colors = plt.set_cmap('cool')\n",
    "norm = mcolors.TwoSlopeNorm(vmin=-90, vcenter=0, vmax=90)\n",
    "\n",
    "vmin = -90 \n",
    "vmax = 90\n",
    "vcenter = 0\n",
    "\n",
    "y_values = cities_df[\"Clouds\"]\n",
    "x_values = abs(cities_df[\"Lat\"])\n",
    "(slope, intercept, rvalue, pvalue, stderr) = linregress(x_values, y_values)\n",
    "regress_values = x_values * slope + intercept\n",
    "line_eq = \"y = \" + str(round(slope,2)) + \"x + \" + str(round(intercept,2))\n",
    "\n",
    "plt.scatter(x_values,y_values, c=cities_df.Lat, cmap=colors, norm=norm)\n",
    "plt.xlim(-5, 90)\n",
    "plt.ylim(0, 105)\n",
    "colorbar = plt.colorbar()\n",
    "colorbar.set_label('Latitude', rotation=270, size = 12)\n",
    "\n",
    "plt.plot(x_values,regress_values,\"k-\")\n",
    "plt.annotate(line_eq,(14,59),fontsize=12,color=\"black\")\n",
    "plt.xlabel('Degrees from equator (Pink N, Aqua S)', size=12)\n",
    "plt.ylabel('Cloudiness (%)', size=12)\n",
    "plt.suptitle('Cloudiness vs. Latitude', size=14)\n",
    "\n",
    "print(f\"The r-squared is: {rvalue**2}\")\n",
    "\n",
    "plt.show()"
   ]
  },
  {
   "cell_type": "markdown",
   "metadata": {},
   "source": [
    "Wind Speed (mph) vs. Latitude"
   ]
  },
  {
   "cell_type": "code",
   "execution_count": null,
   "metadata": {
    "scrolled": true
   },
   "outputs": [],
   "source": [
    "colors = plt.set_cmap('cool')\n",
    "norm = mcolors.TwoSlopeNorm(vmin=-90, vcenter=0, vmax=90)\n",
    "\n",
    "vmin = -90 \n",
    "vmax = 90\n",
    "vcenter = 0\n",
    "\n",
    "y_values = cities_df[\"Wind_speed_mph\"]\n",
    "x_values = abs(cities_df[\"Lat\"])\n",
    "(slope, intercept, rvalue, pvalue, stderr) = linregress(x_values, y_values)\n",
    "regress_values = x_values * slope + intercept\n",
    "line_eq = \"y = \" + str(round(slope,2)) + \"x + \" + str(round(intercept,2))\n",
    "\n",
    "plt.scatter(x_values,y_values, c=cities_df.Lat, cmap=colors, norm=norm)\n",
    "plt.xlim(-5, 90)\n",
    "plt.ylim(0, 16)\n",
    "colorbar = plt.colorbar()\n",
    "colorbar.set_label('Latitude', rotation=270, size = 12)\n",
    "\n",
    "plt.plot(x_values,regress_values,\"k-\")\n",
    "plt.annotate(line_eq,(0,14),fontsize=12,color=\"black\")\n",
    "plt.xlabel('Degrees from equator (Pink N, Aqua S)', size=12)\n",
    "plt.ylabel('Wind speed (mph)', size=12)\n",
    "plt.suptitle('Wind Speed vs. Latitude', size=14)\n",
    "\n",
    "print(f\"The r-squared is: {rvalue**2}\")\n",
    "\n",
    "plt.show()"
   ]
  },
  {
   "cell_type": "markdown",
   "metadata": {},
   "source": [
    "Linear Regression\n",
    "#OPTIONAL: Create a function to create Linear Regression plots\n",
    "**Optional:** Since you're creating multiple linear regression plots, you could do this in a function. To optimize \n",
    "your code, write a function that creates the linear regression plots based on parameters you provide. \n",
    "Again, this step is **optional**. \n",
    "\n",
    "\n",
    "#After each pair of plots (i.e., northern and southern hemispheres) explain what the linear regression is modeling, \n",
    "comment on any relationships you notice, and include any other analysis you may have."
   ]
  },
  {
   "cell_type": "code",
   "execution_count": null,
   "metadata": {},
   "outputs": [],
   "source": []
  },
  {
   "cell_type": "markdown",
   "metadata": {},
   "source": [
    "Create Northern and Southern Hemisphere DataFrames (assigning the equator to the south, just because)"
   ]
  },
  {
   "cell_type": "code",
   "execution_count": null,
   "metadata": {},
   "outputs": [],
   "source": [
    "SH_cities_df = cities_df.drop(cities_df[cities_df['Lat'] > 0].index)\n",
    "#SH_cities_df\n",
    "NH_cities_df = cities_df.drop(cities_df[cities_df['Lat'] <= 0].index)\n",
    "NH_cities_df"
   ]
  },
  {
   "cell_type": "markdown",
   "metadata": {},
   "source": []
  },
  {
   "cell_type": "code",
   "execution_count": null,
   "metadata": {},
   "outputs": [],
   "source": []
  },
  {
   "cell_type": "markdown",
   "metadata": {},
   "source": [
    "Northern Hemisphere - Max Temp (F) vs. Latitude Linear Regression"
   ]
  },
  {
   "cell_type": "code",
   "execution_count": null,
   "metadata": {},
   "outputs": [],
   "source": [
    "#colors = plt.set_cmap('bwr')\n",
    "#norm = mcolors.TwoSlopeNorm(vmin=-90, vcenter=0, vmax=90)\n",
    "\n",
    "#vmin = -90 \n",
    "#vmax = 90\n",
    "#vcenter = 0\n",
    "\n",
    "y_values = ((NH_cities_df[\"Temp_max_C\"]*(9/5))+32)\n",
    "x_values = NH_cities_df[\"Lat\"]\n",
    "(slope, intercept, rvalue, pvalue, stderr) = linregress(x_values, y_values)\n",
    "regress_values = x_values * slope + intercept\n",
    "line_eq = \"y = \" + str(round(slope,2)) + \"x + \" + str(round(intercept,2))\n",
    "\n",
    "#plt.figure()\n",
    "plt.scatter(x_values,y_values,c=\"red\")\n",
    "plt.xlim(-5, 90)\n",
    "plt.ylim(25, 112)\n",
    "#plt.colorbar()\n",
    "\n",
    "plt.plot(x_values,regress_values, \"k-\")\n",
    "plt.annotate(line_eq,(45,105),fontsize=12,color=\"black\")\n",
    "plt.xlabel('Latitude', size=12)\n",
    "plt.ylabel('Maximum temperature (˚F)', size=12)\n",
    "plt.suptitle('Maximum temperature vs. Latitude', size=14)\n",
    "\n",
    "#plt.ion()\n",
    "\n",
    "print(f\"The r-squared is: {rvalue**2}\")\n",
    "\n",
    "plt.show()\n"
   ]
  },
  {
   "cell_type": "markdown",
   "metadata": {},
   "source": [
    "Southern Hemisphere - Max Temp (F) vs. Latitude Linear Regression"
   ]
  },
  {
   "cell_type": "code",
   "execution_count": null,
   "metadata": {},
   "outputs": [],
   "source": [
    "#colors = plt.set_cmap('bwr')\n",
    "#norm = mcolors.TwoSlopeNorm(vmin=-90, vcenter=0, vmax=90)\n",
    "\n",
    "#vmin = -90 \n",
    "#vmax = 90\n",
    "#vcenter = 0\n",
    "\n",
    "y_values = ((SH_cities_df[\"Temp_max_C\"]*(9/5))+32)\n",
    "x_values = SH_cities_df[\"Lat\"]\n",
    "(slope, intercept, rvalue, pvalue, stderr) = linregress(x_values, y_values)\n",
    "regress_values = x_values * slope + intercept\n",
    "line_eq = \"y = \" + str(round(slope,2)) + \"x + \" + str(round(intercept,2))\n",
    "\n",
    "#plt.figure()\n",
    "plt.scatter(x_values,y_values, c=\"b\")\n",
    "plt.xlim(-90, 5)\n",
    "plt.ylim(25, 112)\n",
    "#plt.colorbar()\n",
    "\n",
    "plt.plot(x_values,regress_values, \"k-\")\n",
    "plt.annotate(line_eq,(-40,105),fontsize=12,color=\"black\")\n",
    "plt.xlabel('Latitude', size=12)\n",
    "plt.ylabel('Maximum temperature (˚F)', size=12)\n",
    "plt.suptitle('Maximum temperature vs. Latitude', size=14)\n",
    "\n",
    "#plt.ion()\n",
    "\n",
    "print(f\"The r-squared is: {rvalue**2}\")\n",
    "\n",
    "plt.show()\n"
   ]
  },
  {
   "cell_type": "markdown",
   "metadata": {},
   "source": [
    "Northern Hemisphere - Humidity (%) vs. Latitude Linear Regression"
   ]
  },
  {
   "cell_type": "code",
   "execution_count": null,
   "metadata": {},
   "outputs": [],
   "source": [
    "#colors = plt.set_cmap('bwr')\n",
    "#norm = mcolors.TwoSlopeNorm(vmin=-90, vcenter=0, vmax=90)\n",
    "\n",
    "#vmin = -90 \n",
    "#vmax = 90\n",
    "#vcenter = 0\n",
    "\n",
    "y_values = NH_cities_df[\"Humidity\"]\n",
    "x_values = NH_cities_df[\"Lat\"]\n",
    "(slope, intercept, rvalue, pvalue, stderr) = linregress(x_values, y_values)\n",
    "regress_values = x_values * slope + intercept\n",
    "line_eq = \"y = \" + str(round(slope,2)) + \"x + \" + str(round(intercept,2))\n",
    "\n",
    "plt.scatter(x_values,y_values, c=\"r\")\n",
    "plt.xlim(-5, 90)\n",
    "plt.ylim(0, 105)\n",
    "#plt.colorbar()\n",
    "\n",
    "plt.plot(x_values,regress_values,\"k-\")\n",
    "plt.annotate(line_eq,(48,10),fontsize=12,color=\"black\")\n",
    "plt.xlabel('Latitude', size=12)\n",
    "plt.ylabel('Humidity (%)', size=12)\n",
    "plt.suptitle('Humidity vs. Latitude', size=14)\n",
    "\n",
    "print(f\"The r-squared is: {rvalue**2}\")\n",
    "\n",
    "plt.show()"
   ]
  },
  {
   "cell_type": "markdown",
   "metadata": {},
   "source": [
    "Southern Hemisphere - Humidity (%) vs. Latitude Linear Regression"
   ]
  },
  {
   "cell_type": "code",
   "execution_count": null,
   "metadata": {},
   "outputs": [],
   "source": [
    "#colors = plt.set_cmap('bwr')\n",
    "#norm = mcolors.TwoSlopeNorm(vmin=-90, vcenter=0, vmax=90)\n",
    "\n",
    "#vmin = -90 \n",
    "#vmax = 90\n",
    "#vcenter = 0\n",
    "\n",
    "y_values = SH_cities_df[\"Humidity\"]\n",
    "x_values = SH_cities_df[\"Lat\"]\n",
    "(slope, intercept, rvalue, pvalue, stderr) = linregress(x_values, y_values)\n",
    "regress_values = x_values * slope + intercept\n",
    "line_eq = \"y = \" + str(round(slope,2)) + \"x + \" + str(round(intercept,2))\n",
    "\n",
    "plt.scatter(x_values,y_values, c=\"b\")\n",
    "plt.xlim(-90, 5)\n",
    "plt.ylim(0, 105)\n",
    "#plt.colorbar()\n",
    "\n",
    "plt.plot(x_values,regress_values,\"k-\")\n",
    "plt.annotate(line_eq,(-80,10),fontsize=12,color=\"black\")\n",
    "plt.xlabel('Latitude', size=12)\n",
    "plt.ylabel('Humidity (%)', size=12)\n",
    "plt.suptitle('Humidity vs. Latitude', size=14)\n",
    "\n",
    "print(f\"The r-squared is: {rvalue**2}\")\n",
    "\n",
    "plt.show()"
   ]
  },
  {
   "cell_type": "markdown",
   "metadata": {},
   "source": [
    "Northern Hemisphere - Cloudiness (%) vs. Latitude Linear Regression"
   ]
  },
  {
   "cell_type": "code",
   "execution_count": null,
   "metadata": {},
   "outputs": [],
   "source": [
    "#colors = plt.set_cmap('bwr')\n",
    "#norm = mcolors.TwoSlopeNorm(vmin=-90, vcenter=0, vmax=90)\n",
    "\n",
    "#vmin = -90 \n",
    "#vmax = 90\n",
    "#vcenter = 0\n",
    "\n",
    "y_values = NH_cities_df[\"Clouds\"]\n",
    "x_values = NH_cities_df[\"Lat\"]\n",
    "(slope, intercept, rvalue, pvalue, stderr) = linregress(x_values, y_values)\n",
    "regress_values = x_values * slope + intercept\n",
    "line_eq = \"y = \" + str(round(slope,2)) + \"x + \" + str(round(intercept,2))\n",
    "\n",
    "plt.scatter(x_values,y_values, c=\"r\")\n",
    "plt.xlim(-5, 90)\n",
    "plt.ylim(0, 105)\n",
    "#plt.colorbar()\n",
    "\n",
    "plt.plot(x_values,regress_values,\"k-\")\n",
    "plt.annotate(line_eq,(0,48),fontsize=12,color=\"black\")\n",
    "plt.xlabel('Latitude', size=12)\n",
    "plt.ylabel('Cloudiness (%)', size=12)\n",
    "plt.suptitle('Cloudiness vs. Latitude', size=14)\n",
    "\n",
    "print(f\"The r-squared is: {rvalue**2}\")\n",
    "\n",
    "plt.show()"
   ]
  },
  {
   "cell_type": "markdown",
   "metadata": {},
   "source": [
    "Southern Hemisphere - Cloudiness (%) vs. Latitude Linear Regression"
   ]
  },
  {
   "cell_type": "code",
   "execution_count": null,
   "metadata": {},
   "outputs": [],
   "source": [
    "#colors = plt.set_cmap('bwr')\n",
    "#norm = mcolors.TwoSlopeNorm(vmin=-90, vcenter=0, vmax=90)\n",
    "\n",
    "#vmin = -90 \n",
    "#vmax = 90\n",
    "#vcenter = 0\n",
    "\n",
    "y_values = SH_cities_df[\"Clouds\"]\n",
    "x_values = SH_cities_df[\"Lat\"]\n",
    "(slope, intercept, rvalue, pvalue, stderr) = linregress(x_values, y_values)\n",
    "regress_values = x_values * slope + intercept\n",
    "line_eq = \"y = \" + str(round(slope,2)) + \"x + \" + str(round(intercept,2))\n",
    "\n",
    "plt.scatter(x_values,y_values, c=\"blue\")\n",
    "plt.xlim(-90, 5)\n",
    "plt.ylim(0, 105)\n",
    "#plt.colorbar()\n",
    "\n",
    "plt.plot(x_values,regress_values,\"k-\")\n",
    "plt.annotate(line_eq,(-85,48),fontsize=12,color=\"black\")\n",
    "plt.xlabel('Latitude', size=12)\n",
    "plt.ylabel('Cloudiness (%)', size=12)\n",
    "plt.suptitle('Cloudiness vs. Latitude', size=14)\n",
    "\n",
    "print(f\"The r-squared is: {rvalue**2}\")\n",
    "\n",
    "plt.show()"
   ]
  },
  {
   "cell_type": "markdown",
   "metadata": {},
   "source": [
    "Northern Hemisphere - Wind Speed (mph) vs. Latitude Linear Regression"
   ]
  },
  {
   "cell_type": "code",
   "execution_count": null,
   "metadata": {},
   "outputs": [],
   "source": [
    "#colors = plt.set_cmap('bwr')\n",
    "#norm = mcolors.TwoSlopeNorm(vmin=-90, vcenter=0, vmax=90)\n",
    "\n",
    "#vmin = -90 \n",
    "#vmax = 90\n",
    "#vcenter = 0\n",
    "\n",
    "y_values = NH_cities_df[\"Wind_speed_mph\"]\n",
    "x_values = NH_cities_df[\"Lat\"]\n",
    "(slope, intercept, rvalue, pvalue, stderr) = linregress(x_values, y_values)\n",
    "regress_values = x_values * slope + intercept\n",
    "line_eq = \"y = \" + str(round(slope,2)) + \"x + \" + str(round(intercept,2))\n",
    "\n",
    "plt.scatter(x_values,y_values, c=\"red\")\n",
    "plt.xlim(-5, 90)\n",
    "plt.ylim(0, 16)\n",
    "#plt.colorbar()\n",
    "\n",
    "plt.plot(x_values,regress_values,\"k-\")\n",
    "plt.annotate(line_eq,(0,14),fontsize=12,color=\"black\")\n",
    "plt.xlabel('Latitude', size=12)\n",
    "plt.ylabel('Wind speed (mph)', size=12)\n",
    "plt.suptitle('Wind Speed vs. Latitude', size=14)\n",
    "\n",
    "print(f\"The r-squared is: {rvalue**2}\")\n",
    "\n",
    "plt.show()"
   ]
  },
  {
   "cell_type": "markdown",
   "metadata": {},
   "source": [
    "Southern Hemisphere - Wind Speed (mph) vs. Latitude Linear Regression"
   ]
  },
  {
   "cell_type": "code",
   "execution_count": null,
   "metadata": {},
   "outputs": [],
   "source": [
    "#colors = plt.set_cmap('bwr')\n",
    "#norm = mcolors.TwoSlopeNorm(vmin=-90, vcenter=0, vmax=90)\n",
    "\n",
    "#vmin = -90 \n",
    "#vmax = 90\n",
    "#vcenter = 0\n",
    "\n",
    "y_values = SH_cities_df[\"Wind_speed_mph\"]\n",
    "x_values = SH_cities_df[\"Lat\"]\n",
    "(slope, intercept, rvalue, pvalue, stderr) = linregress(x_values, y_values)\n",
    "regress_values = x_values * slope + intercept\n",
    "line_eq = \"y = \" + str(round(slope,2)) + \"x + \" + str(round(intercept,2))\n",
    "\n",
    "plt.scatter(x_values,y_values, c=\"blue\")\n",
    "plt.xlim(-90, 5)\n",
    "plt.ylim(0, 16)\n",
    "#plt.colorbar()\n",
    "\n",
    "plt.plot(x_values,regress_values,\"k-\")\n",
    "plt.annotate(line_eq,(-85,14),fontsize=12,color=\"black\")\n",
    "plt.xlabel('Latitude', size=12)\n",
    "plt.ylabel('Wind speed (mph)', size=12)\n",
    "plt.suptitle('Wind Speed vs. Latitude', size=14)\n",
    "\n",
    "print(f\"The r-squared is: {rvalue**2}\")\n",
    "\n",
    "plt.show()"
   ]
  },
  {
   "cell_type": "code",
   "execution_count": null,
   "metadata": {},
   "outputs": [],
   "source": []
  }
 ],
 "metadata": {
  "kernelspec": {
   "display_name": "Python 3",
   "language": "python",
   "name": "python3"
  },
  "language_info": {
   "codemirror_mode": {
    "name": "ipython",
    "version": 3
   },
   "file_extension": ".py",
   "mimetype": "text/x-python",
   "name": "python",
   "nbconvert_exporter": "python",
   "pygments_lexer": "ipython3",
   "version": "3.6.10"
  }
 },
 "nbformat": 4,
 "nbformat_minor": 4
}
