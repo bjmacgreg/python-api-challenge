{
 "cells": [
  {
   "cell_type": "markdown",
   "metadata": {},
   "source": [
    "Hints and Considerations\n",
    "\n",
    "* The city data you generate is based on random coordinates as well as different query times; as such, your outputs will not be an exact match to the provided starter notebook.\n",
    "\n",
    "* You may want to start this assignment by refreshing yourself on the [geographic coordinate system](http://desktop.arcgis.com/en/arcmap/10.3/guide-books/map-projections/about-geographic-coordinate-systems.htm).\n",
    "\n",
    "* Next, spend the requisite time necessary to study the OpenWeatherMap API. Based on your initial study, you should be able to answer  basic questions about the API: Where do you request the API key? Which Weather API in particular will you need? What URL endpoints does it expect? Which JSON structure does it respond with? Before you write a line of code, you should be aiming to have a crystal clear understanding of your intended outcome.\n",
    "\n",
    "* Starter code for Citipy has been provided. However, if you're craving an extra challenge, push yourself to learn how it works: [citipy Python library](https://pypi.python.org/pypi/citipy). Before you try to incorporate the library into your analysis, start by creating simple test cases outside your main script to confirm that you are using it correctly. Too often, when introduced to a new library, students get bogged down by the most minor of errors -- spending hours investigating their entire code -- when, in fact, a simple and focused test would have shown their basic utilization of the library was wrong from the start. Don't let this be you!\n",
    "\n",
    "* Part of our expectation in this challenge is that you will use critical thinking skills to understand how and why we're recommending the tools we are. What is Citipy for? Why would you use it in conjunction with the OpenWeatherMap API? How would you do so?\n",
    "\n",
    "* In building your script, pay attention to the cities you are using in your query pool. Are you getting coverage of the full gamut of latitudes and longitudes? Or are you simply choosing 500 cities concentrated in one region of the world? Even if you were a geographic genius, simply rattling 500 cities based on your human selection would create a biased dataset. Be thinking of how you should counter this. (Hint: Consider the full range of latitudes).\n",
    "\n",
    "* Remember that each coordinate will trigger a separate call to the Google API. If you're creating your own criteria to plan your vacation, try to reduce the results in your DataFrame to 10 or fewer cities.\n",
    "\n",
    "* Lastly, remember -- this is a challenging activity. Push yourself! If you complete this task, then you can safely say that you've gained a strong mastery of the core foundations of data analytics and it will only go better from here. Good luck!"
   ]
  },
  {
   "cell_type": "markdown",
   "metadata": {},
   "source": [
    "Your final notebook must:\n",
    "\n",
    "* Randomly select **at least** 500 unique (non-repeat) cities based on latitude and longitude.\n",
    "* Obtain the weather from each city using the OpenWeatherMap API.\n",
    "* Include a print log of each city as it's being processed, with the city number and city name.\n",
    "* Save a CSV of all retrieved data and a PNG image for each scatter plot."
   ]
  },
  {
   "cell_type": "code",
   "execution_count": 4,
   "metadata": {},
   "outputs": [
    {
     "ename": "SyntaxError",
     "evalue": "invalid syntax (<ipython-input-4-bf79c4d9b108>, line 12)",
     "output_type": "error",
     "traceback": [
      "\u001b[0;36m  File \u001b[0;32m\"<ipython-input-4-bf79c4d9b108>\"\u001b[0;36m, line \u001b[0;32m12\u001b[0m\n\u001b[0;31m    from /.gitignore import weather_api_key\u001b[0m\n\u001b[0m         ^\u001b[0m\n\u001b[0;31mSyntaxError\u001b[0m\u001b[0;31m:\u001b[0m invalid syntax\n"
     ]
    }
   ],
   "source": [
    "# Dependencies and Setup\n",
    "import matplotlib.pyplot as plt\n",
    "import pandas as pd\n",
    "import numpy as np\n",
    "import requests\n",
    "import time\n",
    "from scipy.stats import linregress\n",
    "import json\n",
    "\n",
    "# Import API key\n",
    "#from config import weather_api_key\n",
    "from /.gitignore import weather_api_key\n",
    "# Incorporated citipy to determine city based on latitude and longitude\n",
    "from citipy import citipy\n",
    "\n",
    "# Output File (CSV)\n",
    "output_data_file = \"output_data/cities.csv\"\n",
    "\n",
    "# Range of latitudes and longitudes\n",
    "lat_range = (-90, 90)\n",
    "lng_range = (-180, 180)"
   ]
  },
  {
   "cell_type": "markdown",
   "metadata": {},
   "source": [
    "Generate Cities List"
   ]
  },
  {
   "cell_type": "code",
   "execution_count": 2,
   "metadata": {},
   "outputs": [
    {
     "name": "stdout",
     "output_type": "stream",
     "text": [
      "['khatanga', 'kavieng', 'iquitos', 'eyl', 'new norfolk', 'villa constitucion', 'rikitea', 'itarema', 'mys shmidta', 'hudson bay', 'samusu', 'ada', 'port lincoln', 'aswan', 'port-gentil', 'yellowknife', 'albany', 'codrington', 'manta', 'butaritari', 'christchurch', 'chapais', 'barentsburg', 'clyde river', 'jacareacanga', 'hilo', 'qaanaaq', 'yialos', 'prieska', 'chuy', 'castro', 'arraial do cabo', 'ushuaia', 'vaini', 'cape town', 'hirado', 'lompoc', 'east london', 'vanimo', 'georgetown', 'tasiilaq', 'avarua', 'jamestown', 'bengkulu', 'santa maria', 'khonuu', 'bluff', 'aklavik', 'los llanos de aridane', 'broome', 'rey bouba', 'mar del plata', 'tura', 'upernavik', 'saldanha', 'kashirskoye', 'hobart', 'maceio', 'busselton', 'sao jose da coroa grande', 'san patricio', 'birjand', 'mataura', 'kodiak', 'atuona', 'shizunai', 'punta arenas', 'alexandria', 'tumannyy', 'barrow', 'juigalpa', 'vostok', 'cherskiy', 'illoqqortoormiut', 'awbari', 'yarmouth', 'ribeira grande', 'vila franca do campo', 'formoso do araguaia', 'saint-pierre', 'taolanaro', 'nishihara', 'buala', 'vao', 'doha', 'port alfred', 'torbay', 'cidreira', 'leh', 'jambi', 'lata', 'puerto ayora', 'kleck', 'batagay', 'goksun', 'mahebourg', 'saint-philippe', 'madera', 'alofi', 'hermanus', 'gilgit', 'qasigiannguit', 'morant bay', 'hasaki', 'raudeberg', 'saskylakh', 'salalah', 'nisporeni', 'tateyama', 'bela', 'geraldton', 'kavaratti', 'rincon', 'labe', 'nuuk', 'alyangula', 'portland', 'voskresenskoye', 'sovetsk', 'kapaa', 'pevek', 'wigan', 'ilsede', 'dalbandin', 'vaitupu', 'berezhany', 'nome', 'berga', 'san quintin', 'nikolskoye', 'plouzane', 'sarishabari', 'kars', 'anadyr', 'attawapiskat', 'bathsheba', 'maldonado', 'kasongo-lunda', 'winnemucca', 'san carlos de bariloche', 'norman wells', 'pierre', 'aksha', 'te anau', 'lavrentiya', 'marsa matruh', 'harnosand', 'uglich', 'atar', 'mlowo', 'saint-augustin', 'bandarbeyla', 'general roca', 'ludwigslust', 'evanton', 'kaitangata', 'mundo nuevo', 'saint-georges', 'skeldon', 'kyzyl-suu', 'ukiah', 'ponta do sol', 'pitimbu', 'olbia', 'bow island', 'tuktoyaktuk', 'tiksi', 'bambanglipuro', 'kapustin yar', 'lebu', 'husavik', 'wewak', 'mwinilunga', 'sault sainte marie', 'fortuna', 'fez', 'lasa', 'boca do acre', 'bairiki', 'ovre ardal', 'akdepe', 'chipinge', 'bad doberan', 'bambous virieux', 'sola', 'kaeo', 'westport', 'tunduru', 'junagarh', 'tessalit', 'sambava', 'egvekinot', 'port elizabeth', 'klaksvik', 'acapulco', 'bredasdorp', 'steinbach', 'faanui', 'huilong', 'kilindoni', 'kasongo', 'preobrazheniye', 'tuatapere', 'dikson', 'abonnema', 'avera', 'nagato', 'warrnambool', 'kalmunai', 'beaupre', 'sentyabrskiy', 'arlit', 'chokurdakh', 'saint george', 'paita', 'mehamn', 'luderitz', 'mantua', 'moerai', 'sao joao da barra', 'cooma', 'rocha', 'balikpapan', 'bolungarvik', 'byron bay', 'dongsheng', 'aykhal', 'labuhan', 'longyearbyen', 'palmerston', 'thompson', 'brigantine', 'oga', 'flinders', 'khasan', 'puerto escondido', 'jining', 'guerrero negro', 'soyo', 'gallup', 'kaili', 'tatawin', 'kokopo', 'toulepleu', 'goma', 'pokhara', 'bonavista', 'talnakh', 'bekhtery', 'ust-kuyga', 'hargeysa', 'ixtapa', 'maragogi', 'churhat', 'amderma', 'cam ranh', 'bolivar', 'grootfontein', 'millinocket', 'ust-tsilma', 'san cristobal', 'severo-kurilsk', 'iwaki', 'zhanatas', 'carnarvon', 'novouzensk', 'xinglongshan', 'halifax', 'luau', 'brekstad', 'dharchula', 'cabo san lucas', 'lima', 'sheregesh', 'ban tak', 'higuey', 'belushya guba', 'palaikastron', 'gacko', 'broken hill', 'vardo', 'kieta', 'yulara', 'marawi', 'visnes', 'saleaula', 'catuday', 'mangrol', 'burnie', 'great yarmouth', 'nizhneyansk', 'olafsvik', 'san martin', 'alencon', 'sozopol', 'chegdomyn', 'jinchang', 'rorvik', 'kuche', 'areosa', 'marovoay', 'grand gaube', 'vestmannaeyjar', 'narsaq', 'fontem', 'silva jardim', 'kamenskoye', 'weligama', 'aksu', 'katsuura', 'yar-sale', 'provideniya', 'leningradskiy', 'kruisfontein', 'takaka', 'mitchell', 'adrar', 'hervey bay', 'ostrovnoy', 'flin flon', 'kasulu', 'taoudenni', 'viligili', 'coihaique', 'kununurra', 'copperas cove', 'quimper', 'colares', 'namibe', 'pitsunda', 'dakar', 'yaan', 'tucupita', 'zaysan', 'beloha', 'poum', 'hualmay', 'port charlotte', 'castelfranco di sotto', 'huron', 'inhambane', 'ariquemes', 'lagoa', 'bud', 'kyra', 'grindavik', 'tonk', 'ca mau', 'itoman', 'halmstad', 'praia da vitoria', 'ulladulla', 'lorengau', 'necochea', 'ancud', 'union', 'san felipe', 'fort-shevchenko', 'port hardy', 'kamenka', 'barra de sao francisco', 'kungurtug', 'irsha', 'hammerfest', 'tonekabon', 'rawson', 'dunedin', 'louisbourg', 'grand river south east', 'kutum', 'iqaluit', 'adeje', 'rio gallegos', 'pacific grove', 'mattru', 'zabol', 'tsihombe', 'gurupi', 'prince rupert', 'yarada', 'ilulissat', 'puerto narino', 'rosetta', 'victoria', 'viedma', 'amalapuram', 'yongchang', 'mount isa', 'cayenne', 'airai', 'binzhou', 'dire', 'gwadar', 'manzil tamim', 'pryozerne', 'burica', 'sabzevar', 'temir', 'hit', 'afmadu', 'ambodifototra', 'rungata', 'caxito', 'bethel', 'sinnamary', 'padang', 'toma', 'esperance', 'shubarkuduk', 'fare', 'nipawin', 'cairns', 'hami', 'constantine', 'sorland', 'atambua', 'mweka', 'chingirlau', 'launceston', 'mocuba', 'storsteinnes', 'muromtsevo', 'sorvag', 'inirida', 'belaya gora', 'haibowan', 'okato', 'missoula', 'honningsvag', 'port-cartier', 'desaguadero', 'vestmanna', 'birao', 'birin', 'camacha', 'nicoya', 'beni mazar', 'vila velha', 'saint-joseph', 'nioro', 'ballarat', 'imeni babushkina', 'tilichiki', 'wanning', 'mandalgovi', 'mobaye', 'mayo', 'banyo', 'ayacucho', 'solaro', 'la seyne-sur-mer', 'lac du bonnet', 'umm jarr', 'dingle', 'krasnokamensk', 'boguchany', 'barawe', 'tecoanapa', 'kahului', 'cagayan de tawi-tawi', 'riyadh', 'saint-denis', 'ust-omchug', 'namatanai', 'hithadhoo', 'kita', 'turka', 'huarmey', 'kharan', 'okhotsk', 'sao filipe', 'ahipara', 'sibolga', 'najran', 'dalvik', 'voloshka', 'tyukhtet', 'bundaberg', 'mahon', 'yeppoon', 'linxia', 'kendari', 'bargal', 'pemba', 'ambon', 'aleksandrov gay', 'isiolo', 'badarwas', 'naze', 'miraflores', 'san policarpo', 'samana', 'lewiston', 'bilma', 'sisimiut', 'bucerias', 'yichang', 'kudahuvadhoo', 'wanaka', 'russell', 'folldal', 'hay river', 'ratnagiri', 'saint anthony', 'madawaska', 'port macquarie', 'tabas', 'mandera', 'cravo norte', 'caravelas', 'vawkavysk', 'aldan', 'almaznyy', 'bardiyah', 'opuwo', 'beidao', 'ketchikan', 'kyrylivka', 'loandjili', 'hamilton', 'constitucion', 'pachora', 'barwadih', 'chaa-khol', 'dalmatovo', 'inderborskiy', 'praia', 'fairbanks', 'paragominas', 'soe', 'butwal', 'xichang', 'njombe', 'xadani', 'rafsanjan', 'dubbo', 'dudinka', 'noumea', 'takoradi', 'ruatoria', 'deputatskiy', 'samarai', 'ishigaki', 'insch', 'jaque', 'we', 'spassk-dalniy', 'polunochnoye', 'lazarev', 'fairview', 'denpasar', 'naryan-mar', 'alwar', 'novyy nekouz', 'canmore', 'kissing', 'veshenskaya', 'kholodnyy', 'pallisa', 'quelimane', 'linqiong', 'monopoli', 'saint andrews', 'fatikchhari', 'the valley', 'maltahohe', 'oistins', 'gunjur', 'aranda de duero', 'dwarka', 'krasnaya gorbatka', 'angoche', 'tual', 'mount gambier', 'ayan', 'batemans bay', 'faya', 'yei', 'alta floresta', 'tias', 'santa rosa del sur', 'port augusta', 'svetlaya', 'pala', 'abashiri', 'grand centre', 'cheuskiny', 'dvinskoy', 'kang', 'terney', 'eschwege', 'carballo', 'mizan teferi', 'prado', 'ayer itam', 'banfora', 'hingoli']\n"
     ]
    }
   ],
   "source": [
    "# List for holding lat_lngs and cities\n",
    "lat_lngs = []\n",
    "cities = []\n",
    "\n",
    "# Create a set of random lat and lng combinations\n",
    "lats = np.random.uniform(lat_range[0], lat_range[1], size=1500)\n",
    "lngs = np.random.uniform(lng_range[0], lng_range[1], size=1500)\n",
    "#lats = np.random.uniform(lat_range[0], lat_range[1], size=20)\n",
    "#lngs = np.random.uniform(lng_range[0], lng_range[1], size=20)\n",
    "\n",
    "lat_lngs = zip(lats, lngs)\n",
    "\n",
    "# Identify nearest city for each lat, lng combination\n",
    "for lat_lng in lat_lngs:\n",
    "    city = citipy.nearest_city(lat_lng[0], lat_lng[1]).city_name\n",
    "    \n",
    "    # If the city is unique, then add it to a our cities list\n",
    "    if city not in cities:\n",
    "        cities.append(city)\n",
    "\n",
    "# Print the city count to confirm sufficient count\n",
    "len(cities)\n",
    "print(cities)\n",
    "#set(zip(lats, lngs))\n"
   ]
  },
  {
   "cell_type": "markdown",
   "metadata": {},
   "source": [
    "Perform API Calls\n",
    "Perform a weather check on each city using a series of successive API calls.\n",
    "Include a print log of each city as it's being processed (with the city number and city name).\n",
    "***Note that these will be at different times of day, depending on longitude... do have timezone... historical data for e.g. last 5 days would be better, but is a lot more data; longer-term costs money. Suppose could divide calls to database by timezone, do a call at e.g. local noon until have the complete set.\n",
    "OpenWeatherMap uses Unix time and UTC/GMT time zone for all API calls including current weather, forecast and historical data.\n",
    "api.openweathermap.org/data/2.5/weather?q={city name}&appid={your api key}"
   ]
  },
  {
   "cell_type": "code",
   "execution_count": 4,
   "metadata": {},
   "outputs": [
    {
     "ename": "TypeError",
     "evalue": "'dict' object is not callable",
     "output_type": "error",
     "traceback": [
      "\u001b[0;31m---------------------------------------------------------------------------\u001b[0m",
      "\u001b[0;31mTypeError\u001b[0m                                 Traceback (most recent call last)",
      "\u001b[0;32m<ipython-input-4-0fc726d63b07>\u001b[0m in \u001b[0;36m<module>\u001b[0;34m\u001b[0m\n\u001b[1;32m     24\u001b[0m     \u001b[0;32mtry\u001b[0m\u001b[0;34m:\u001b[0m\u001b[0;34m\u001b[0m\u001b[0;34m\u001b[0m\u001b[0m\n\u001b[0;32m---> 25\u001b[0;31m         \u001b[0mname\u001b[0m\u001b[0;34m.\u001b[0m\u001b[0mappend\u001b[0m\u001b[0;34m(\u001b[0m\u001b[0mcurrent_weather\u001b[0m\u001b[0;34m(\u001b[0m\u001b[0mname\u001b[0m\u001b[0;34m)\u001b[0m\u001b[0;34m)\u001b[0m\u001b[0;34m\u001b[0m\u001b[0;34m\u001b[0m\u001b[0m\n\u001b[0m\u001b[1;32m     26\u001b[0m         \u001b[0;31m#lat.append(current_weather['coord']['lat'])\u001b[0m\u001b[0;34m\u001b[0m\u001b[0;34m\u001b[0m\u001b[0;34m\u001b[0m\u001b[0m\n",
      "\u001b[0;31mTypeError\u001b[0m: 'dict' object is not callable",
      "\nDuring handling of the above exception, another exception occurred:\n",
      "\u001b[0;31mTypeError\u001b[0m                                 Traceback (most recent call last)",
      "\u001b[0;32m<ipython-input-4-0fc726d63b07>\u001b[0m in \u001b[0;36m<module>\u001b[0;34m\u001b[0m\n\u001b[1;32m     36\u001b[0m         \u001b[0;31m#timezone.append(current_weather['timezone'])\u001b[0m\u001b[0;34m\u001b[0m\u001b[0;34m\u001b[0m\u001b[0;34m\u001b[0m\u001b[0m\n\u001b[1;32m     37\u001b[0m     \u001b[0;32mexcept\u001b[0m\u001b[0;34m:\u001b[0m\u001b[0;34m\u001b[0m\u001b[0;34m\u001b[0m\u001b[0m\n\u001b[0;32m---> 38\u001b[0;31m         \u001b[0mname\u001b[0m\u001b[0;34m.\u001b[0m\u001b[0mappend\u001b[0m\u001b[0;34m(\u001b[0m\u001b[0mcurrent_weather\u001b[0m\u001b[0;34m(\u001b[0m\u001b[0;34m\"555\"\u001b[0m\u001b[0;34m)\u001b[0m\u001b[0;34m)\u001b[0m\u001b[0;34m\u001b[0m\u001b[0;34m\u001b[0m\u001b[0m\n\u001b[0m\u001b[1;32m     39\u001b[0m         \u001b[0;31m#lat.append(current_weather(\"555\"))\u001b[0m\u001b[0;34m\u001b[0m\u001b[0;34m\u001b[0m\u001b[0;34m\u001b[0m\u001b[0m\n\u001b[1;32m     40\u001b[0m         \u001b[0;31m#lon.append(current_weather(\"555\"))\u001b[0m\u001b[0;34m\u001b[0m\u001b[0;34m\u001b[0m\u001b[0;34m\u001b[0m\u001b[0m\n",
      "\u001b[0;31mTypeError\u001b[0m: 'dict' object is not callable"
     ]
    }
   ],
   "source": [
    "#test_weather_data = []\n",
    "#test_cities = {\"Bremen\", \"Boston\", \"Bilbao\", \"Quito\", \"Auckland\"}\n",
    "url = \"http://api.openweathermap.org/data/2.5/weather?q=\"\n",
    "name = []\n",
    "lon = []\n",
    "lat = []\n",
    "#weather = []\n",
    "#weather_desc = []\n",
    "temp_C = []\n",
    "feels_like = []\n",
    "temp_min_C = []\n",
    "temp_max_C = []\n",
    "humidity = []\n",
    "wind_speed = []\n",
    "clouds = []\n",
    "country = []\n",
    "timezone = []\n",
    "\n",
    "units = \"metric\"\n",
    "#for city in test_cities:\n",
    "for city in cities:\n",
    "    query_url = url + city + \"&appid=\" + weather_api_key + \"&units=\" + units\n",
    "    current_weather = requests.get(query_url).json()\n",
    "    try:\n",
    "        name.append(current_weather(name))\n",
    "        #lat.append(current_weather['coord']['lat'])\n",
    "        #lon.append(current_weather['coord']['lon'])\n",
    "        #temp_C.append(current_weather['main']['temp'])\n",
    "        #feels_like.append(current_weather['main']['feels_like'])\n",
    "        #temp_min_C.append(current_weather['main']['temp_min'])\n",
    "        #temp_max_C.append(current_weather['main']['temp_max'])\n",
    "        #humidity.append(current_weather['main']['humidity'])\n",
    "        #wind_speed.append(current_weather['wind']['speed'])\n",
    "        #clouds.append(current_weather['clouds']['all'])\n",
    "        #country.append(current_weather['sys']['country'])\n",
    "        #timezone.append(current_weather['timezone'])\n",
    "    except:\n",
    "        name.append(current_weather(\"555\"))\n",
    "        #lat.append(current_weather(\"555\"))\n",
    "        #lon.append(current_weather(\"555\"))\n",
    "        #temp_C.append(current_weather(\"555\"))\n",
    "        #feels_like.append(current_weather(\"555\"))\n",
    "        #temp_min_C.append(current_weather(\"555\"))\n",
    "        #temp_max_C.append(current_weather(\"555\"))\n",
    "        #humidity.append(current_weather(\"555\"))\n",
    "        #wind_speed.append(current_weather(\"555\"))\n",
    "        #clouds.append(current_weather(\"555\"))\n",
    "        #country.append(current_weather(\"555\"))\n",
    "        #timezone.append(current_weather(\"555\"))\n",
    "    print(json.dumps(current_weather, indent=4, sort_keys=True))\n",
    "    #test_weather_data.append(current_weather_json)\n",
    "#print(temp_C)\n"
   ]
  },
  {
   "cell_type": "code",
   "execution_count": null,
   "metadata": {},
   "outputs": [],
   "source": [
    "#Convert Raw Data to DataFrame\n",
    "#Export the city data into a .csv.\n",
    "#Display the DataFrame\n",
    "\n",
    "#weather_dict = {\n",
    "#    \"city\": cities,\n",
    "#    \"lat\": lat,\n",
    "#    \"temp\": temp\n",
    "#}\n",
    "#weather_data = pd.DataFrame(weather_dict)\n",
    "#weather_data.head()\n",
    "\n",
    "cities_df = pd.DataFrame({\n",
    "    \"City\": name,\n",
    "    #\"Lat\": lat,\n",
    "    #\"Lon\": lon,\n",
    "    #\"Temp(C)\": temp_C,\n",
    "    #\"Feels_like\": feels_like,\n",
    "    #\"Temp_min(C)\": temp_min_C,\n",
    "    #\"Temp_max(C)\": temp_max_C,\n",
    "    #\"Humidity\": humidity,\n",
    "    #\"Wind_speed\": wind_speed,\n",
    "    #\"Clouds\": clouds,\n",
    "    #\"Country\": country,\n",
    "    #\"Time_zone\": timezone\n",
    "})\n",
    "\n",
    "cities_df.to_csv()\n",
    "cities_df\n"
   ]
  },
  {
   "cell_type": "markdown",
   "metadata": {},
   "source": [
    "\n"
   ]
  },
  {
   "cell_type": "code",
   "execution_count": null,
   "metadata": {},
   "outputs": [],
   "source": []
  },
  {
   "cell_type": "markdown",
   "metadata": {},
   "source": [
    "Inspect the data and remove the cities where the humidity > 100%.\n",
    "Skip this step if there are no cities that have humidity > 100%."
   ]
  },
  {
   "cell_type": "code",
   "execution_count": null,
   "metadata": {},
   "outputs": [],
   "source": []
  },
  {
   "cell_type": "markdown",
   "metadata": {},
   "source": [
    "Plotting the Data\n",
    "Use proper labeling of the plots using plot titles (including date of analysis) and axes labels.\n",
    "Save the plotted figures as .pngs."
   ]
  },
  {
   "cell_type": "code",
   "execution_count": null,
   "metadata": {},
   "outputs": [],
   "source": []
  },
  {
   "cell_type": "markdown",
   "metadata": {},
   "source": [
    "Temperature (F) vs. Latitude (Max temp?)"
   ]
  },
  {
   "cell_type": "code",
   "execution_count": null,
   "metadata": {},
   "outputs": [],
   "source": []
  },
  {
   "cell_type": "markdown",
   "metadata": {},
   "source": [
    "Humidity (%) vs. Latitude"
   ]
  },
  {
   "cell_type": "code",
   "execution_count": null,
   "metadata": {},
   "outputs": [],
   "source": []
  },
  {
   "cell_type": "markdown",
   "metadata": {},
   "source": [
    "Cloudiness (%) vs. Latitude"
   ]
  },
  {
   "cell_type": "code",
   "execution_count": null,
   "metadata": {},
   "outputs": [],
   "source": []
  },
  {
   "cell_type": "markdown",
   "metadata": {},
   "source": [
    "Wind Speed (mph) vs. Latitude"
   ]
  },
  {
   "cell_type": "code",
   "execution_count": null,
   "metadata": {},
   "outputs": [],
   "source": []
  },
  {
   "cell_type": "markdown",
   "metadata": {},
   "source": [
    "Linear Regression\n",
    "#OPTIONAL: Create a function to create Linear Regression plots\n",
    "**Optional:** Since you're creating multiple linear regression plots, you could do this in a function. To optimize \n",
    "your code, write a function that creates the linear regression plots based on parameters you provide. \n",
    "Again, this step is **optional**. \n",
    "\n",
    "#Create Northern and Southern Hemisphere DataFrames\n",
    "\n",
    "#After each pair of plots (i.e., northern and southern hemispheres) explain what the linear regression is modeling, \n",
    "comment on any relationships you notice, and include any other analysis you may have."
   ]
  },
  {
   "cell_type": "code",
   "execution_count": null,
   "metadata": {},
   "outputs": [],
   "source": []
  },
  {
   "cell_type": "markdown",
   "metadata": {},
   "source": [
    "Northern Hemisphere - Max Temp (F) vs. Latitude Linear Regression"
   ]
  },
  {
   "cell_type": "code",
   "execution_count": null,
   "metadata": {},
   "outputs": [],
   "source": []
  },
  {
   "cell_type": "markdown",
   "metadata": {},
   "source": [
    "Southern Hemisphere - Max Temp (F) vs. Latitude Linear Regression"
   ]
  },
  {
   "cell_type": "code",
   "execution_count": null,
   "metadata": {},
   "outputs": [],
   "source": []
  },
  {
   "cell_type": "markdown",
   "metadata": {},
   "source": [
    "Northern Hemisphere - Humidity (%) vs. Latitude Linear Regression"
   ]
  },
  {
   "cell_type": "code",
   "execution_count": null,
   "metadata": {},
   "outputs": [],
   "source": []
  },
  {
   "cell_type": "markdown",
   "metadata": {},
   "source": [
    "Southern Hemisphere - Humidity (%) vs. Latitude Linear Regression"
   ]
  },
  {
   "cell_type": "code",
   "execution_count": null,
   "metadata": {},
   "outputs": [],
   "source": []
  },
  {
   "cell_type": "markdown",
   "metadata": {},
   "source": [
    "Northern Hemisphere - Cloudiness (%) vs. Latitude Linear Regression"
   ]
  },
  {
   "cell_type": "code",
   "execution_count": null,
   "metadata": {},
   "outputs": [],
   "source": []
  },
  {
   "cell_type": "markdown",
   "metadata": {},
   "source": [
    "Southern Hemisphere - Cloudiness (%) vs. Latitude Linear Regression"
   ]
  },
  {
   "cell_type": "code",
   "execution_count": null,
   "metadata": {},
   "outputs": [],
   "source": []
  },
  {
   "cell_type": "markdown",
   "metadata": {},
   "source": [
    "Northern Hemisphere - Wind Speed (mph) vs. Latitude Linear Regression"
   ]
  },
  {
   "cell_type": "code",
   "execution_count": null,
   "metadata": {},
   "outputs": [],
   "source": []
  },
  {
   "cell_type": "markdown",
   "metadata": {},
   "source": [
    "Southern Hemisphere - Wind Speed (mph) vs. Latitude Linear Regression"
   ]
  }
 ],
 "metadata": {
  "kernelspec": {
   "display_name": "Python 3",
   "language": "python",
   "name": "python3"
  },
  "language_info": {
   "codemirror_mode": {
    "name": "ipython",
    "version": 3
   },
   "file_extension": ".py",
   "mimetype": "text/x-python",
   "name": "python",
   "nbconvert_exporter": "python",
   "pygments_lexer": "ipython3",
   "version": "3.6.10"
  }
 },
 "nbformat": 4,
 "nbformat_minor": 4
}
